{
 "cells": [
  {
   "cell_type": "markdown",
   "metadata": {},
   "source": [
    "### h2o Logistic Regression Test\n",
    "##### Testing h2o\n",
    "\n",
    "Reference: \n",
    "https://aichamp.wordpress.com/2017/09/29/python-example-of-building-glm-gbm-and-random-forest-binomial-model-with-h2o/"
   ]
  },
  {
   "cell_type": "code",
   "execution_count": 1,
   "metadata": {},
   "outputs": [
    {
     "name": "stdout",
     "output_type": "stream",
     "text": [
      "Checking whether there is an H2O instance running at http://localhost:54321..... not found.\n",
      "Attempting to start a local H2O server...\n",
      "; Java HotSpot(TM) 64-Bit Server VM (build 25.152-b32, mixed mode)\n",
      "  Starting server from C:\\Users\\FA279J\\AppData\\Local\\Continuum\\Anaconda2\\lib\\site-packages\\h2o\\backend\\bin\\h2o.jar\n",
      "  Ice root: c:\\users\\fa279j\\appdata\\local\\temp\\tmpx8lezv\n",
      "  JVM stdout: c:\\users\\fa279j\\appdata\\local\\temp\\tmpx8lezv\\h2o_fa279j_started_from_python.out\n",
      "  JVM stderr: c:\\users\\fa279j\\appdata\\local\\temp\\tmpx8lezv\\h2o_fa279j_started_from_python.err\n",
      "  Server is running at http://127.0.0.1:54321\n",
      "Connecting to H2O server at http://127.0.0.1:54321... successful.\n"
     ]
    },
    {
     "data": {
      "text/html": [
       "<div style=\"overflow:auto\"><table style=\"width:50%\"><tr><td>H2O cluster uptime:</td>\n",
       "<td>04 secs</td></tr>\n",
       "<tr><td>H2O cluster timezone:</td>\n",
       "<td>America/Chicago</td></tr>\n",
       "<tr><td>H2O data parsing timezone:</td>\n",
       "<td>UTC</td></tr>\n",
       "<tr><td>H2O cluster version:</td>\n",
       "<td>3.20.0.7</td></tr>\n",
       "<tr><td>H2O cluster version age:</td>\n",
       "<td>1 month and 1 day </td></tr>\n",
       "<tr><td>H2O cluster name:</td>\n",
       "<td>H2O_from_python_fa279j_d1gzq9</td></tr>\n",
       "<tr><td>H2O cluster total nodes:</td>\n",
       "<td>1</td></tr>\n",
       "<tr><td>H2O cluster free memory:</td>\n",
       "<td>1.754 Gb</td></tr>\n",
       "<tr><td>H2O cluster total cores:</td>\n",
       "<td>8</td></tr>\n",
       "<tr><td>H2O cluster allowed cores:</td>\n",
       "<td>8</td></tr>\n",
       "<tr><td>H2O cluster status:</td>\n",
       "<td>accepting new members, healthy</td></tr>\n",
       "<tr><td>H2O connection url:</td>\n",
       "<td>http://127.0.0.1:54321</td></tr>\n",
       "<tr><td>H2O connection proxy:</td>\n",
       "<td>None</td></tr>\n",
       "<tr><td>H2O internal security:</td>\n",
       "<td>False</td></tr>\n",
       "<tr><td>H2O API Extensions:</td>\n",
       "<td>Algos, AutoML, Core V3, Core V4</td></tr>\n",
       "<tr><td>Python version:</td>\n",
       "<td>2.7.13 final</td></tr></table></div>"
      ],
      "text/plain": [
       "--------------------------  -------------------------------\n",
       "H2O cluster uptime:         04 secs\n",
       "H2O cluster timezone:       America/Chicago\n",
       "H2O data parsing timezone:  UTC\n",
       "H2O cluster version:        3.20.0.7\n",
       "H2O cluster version age:    1 month and 1 day\n",
       "H2O cluster name:           H2O_from_python_fa279j_d1gzq9\n",
       "H2O cluster total nodes:    1\n",
       "H2O cluster free memory:    1.754 Gb\n",
       "H2O cluster total cores:    8\n",
       "H2O cluster allowed cores:  8\n",
       "H2O cluster status:         accepting new members, healthy\n",
       "H2O connection url:         http://127.0.0.1:54321\n",
       "H2O connection proxy:\n",
       "H2O internal security:      False\n",
       "H2O API Extensions:         Algos, AutoML, Core V3, Core V4\n",
       "Python version:             2.7.13 final\n",
       "--------------------------  -------------------------------"
      ]
     },
     "metadata": {},
     "output_type": "display_data"
    }
   ],
   "source": [
    "# import\n",
    "import h2o\n",
    "h2o.init()"
   ]
  },
  {
   "cell_type": "code",
   "execution_count": 2,
   "metadata": {},
   "outputs": [
    {
     "name": "stdout",
     "output_type": "stream",
     "text": [
      "Parse progress: |█████████████████████████████████████████████████████████| 100%\n"
     ]
    },
    {
     "data": {
      "text/plain": [
       "[380, 9]"
      ]
     },
     "execution_count": 2,
     "metadata": {},
     "output_type": "execute_result"
    }
   ],
   "source": [
    "### Data Reading\n",
    "\n",
    "df = h2o.import_file(\"//txalle2cdfile25.itservices.sbc.com/APEXANALYTICS/Fahzy/prostate.csv\")\n",
    "df.dim\n",
    "# df.summary() \n",
    "# df.col_names"
   ]
  },
  {
   "cell_type": "code",
   "execution_count": 3,
   "metadata": {},
   "outputs": [
    {
     "name": "stdout",
     "output_type": "stream",
     "text": [
      "Response = CAPSULE\n",
      "Pridictors = [u'ID', u'AGE', u'RACE', u'DPROS', u'DCAPS', u'PSA', u'VOL', u'GLEASON']\n"
     ]
    }
   ],
   "source": [
    "# Setting up predictor variable set and response variable\n",
    "y = 'CAPSULE'\n",
    "x = df.col_names\n",
    "x.remove(y)\n",
    "print(\"Response = \" + y)\n",
    "print(\"Pridictors = \" + str(x))"
   ]
  },
  {
   "cell_type": "code",
   "execution_count": 4,
   "metadata": {
    "collapsed": true
   },
   "outputs": [],
   "source": [
    "# Setting up a categorical variable\n",
    "df['CAPSULE'] = df['CAPSULE'].asfactor()"
   ]
  },
  {
   "cell_type": "code",
   "execution_count": 5,
   "metadata": {},
   "outputs": [
    {
     "data": {
      "text/plain": [
       "[['0', '1']]"
      ]
     },
     "execution_count": 5,
     "metadata": {},
     "output_type": "execute_result"
    }
   ],
   "source": [
    "# Testing CAPSULE levels\n",
    "df['CAPSULE'].levels()"
   ]
  },
  {
   "cell_type": "code",
   "execution_count": 6,
   "metadata": {},
   "outputs": [
    {
     "name": "stdout",
     "output_type": "stream",
     "text": [
      "(380, 9)\n",
      "(299, 9)\n",
      "(40, 9)\n",
      "(41, 9)\n"
     ]
    }
   ],
   "source": [
    "# Splitting dataset into train and test\n",
    "train, valid, test = df.split_frame(ratios=[.8, .1])\n",
    "print(df.shape)\n",
    "print(train.shape)\n",
    "print(valid.shape)\n",
    "print(test.shape)"
   ]
  },
  {
   "cell_type": "code",
   "execution_count": 7,
   "metadata": {},
   "outputs": [
    {
     "name": "stdout",
     "output_type": "stream",
     "text": [
      "glm Model Build progress: |███████████████████████████████████████████████| 100%\n"
     ]
    }
   ],
   "source": [
    "# Logistic Regression Run\n",
    "from h2o.estimators.glm import H2OGeneralizedLinearEstimator\n",
    "\n",
    "glm_logistic = H2OGeneralizedLinearEstimator(family = \"binomial\")\n",
    "glm_logistic.train(x=x, y= y, training_frame=train, validation_frame=valid, \n",
    " model_id=\"glm_logistic\")"
   ]
  },
  {
   "cell_type": "code",
   "execution_count": 8,
   "metadata": {},
   "outputs": [
    {
     "name": "stdout",
     "output_type": "stream",
     "text": [
      "Warning: This model doesn't have variable importances\n"
     ]
    }
   ],
   "source": [
    "# Extracting model's metrics\n",
    "glm_logistic.varimp()"
   ]
  },
  {
   "cell_type": "code",
   "execution_count": 9,
   "metadata": {},
   "outputs": [
    {
     "data": {
      "text/plain": [
       "{u'AGE': 0.0033762700199670985,\n",
       " u'DCAPS': 0.525270891470381,\n",
       " u'DPROS': 0.5466168152748953,\n",
       " u'GLEASON': 1.0861606488270916,\n",
       " u'ID': 0.0024810812188741493,\n",
       " u'Intercept': -9.55066398070174,\n",
       " u'PSA': 0.022718008986971905,\n",
       " u'RACE': -0.5059956826906621,\n",
       " u'VOL': -0.013574967945790826}"
      ]
     },
     "execution_count": 9,
     "metadata": {},
     "output_type": "execute_result"
    }
   ],
   "source": [
    "# Coefficient Estimates\n",
    "glm_logistic.coef()"
   ]
  },
  {
   "cell_type": "code",
   "execution_count": 10,
   "metadata": {},
   "outputs": [
    {
     "name": "stdout",
     "output_type": "stream",
     "text": [
      "glm prediction progress: |████████████████████████████████████████████████| 100%\n"
     ]
    },
    {
     "data": {
      "text/html": [
       "<table>\n",
       "<tr><th style=\"text-align: right;\">  predict</th><th style=\"text-align: right;\">       p0</th><th style=\"text-align: right;\">       p1</th></tr>\n",
       "<tr><td style=\"text-align: right;\">        1</td><td style=\"text-align: right;\">0.626371 </td><td style=\"text-align: right;\">0.373629 </td></tr>\n",
       "<tr><td style=\"text-align: right;\">        0</td><td style=\"text-align: right;\">0.953892 </td><td style=\"text-align: right;\">0.0461078</td></tr>\n",
       "<tr><td style=\"text-align: right;\">        0</td><td style=\"text-align: right;\">0.924728 </td><td style=\"text-align: right;\">0.0752722</td></tr>\n",
       "<tr><td style=\"text-align: right;\">        0</td><td style=\"text-align: right;\">0.763675 </td><td style=\"text-align: right;\">0.236325 </td></tr>\n",
       "<tr><td style=\"text-align: right;\">        0</td><td style=\"text-align: right;\">0.835395 </td><td style=\"text-align: right;\">0.164605 </td></tr>\n",
       "<tr><td style=\"text-align: right;\">        1</td><td style=\"text-align: right;\">0.495503 </td><td style=\"text-align: right;\">0.504497 </td></tr>\n",
       "<tr><td style=\"text-align: right;\">        1</td><td style=\"text-align: right;\">0.0106154</td><td style=\"text-align: right;\">0.989385 </td></tr>\n",
       "<tr><td style=\"text-align: right;\">        1</td><td style=\"text-align: right;\">0.444309 </td><td style=\"text-align: right;\">0.555691 </td></tr>\n",
       "<tr><td style=\"text-align: right;\">        1</td><td style=\"text-align: right;\">0.690385 </td><td style=\"text-align: right;\">0.309615 </td></tr>\n",
       "<tr><td style=\"text-align: right;\">        0</td><td style=\"text-align: right;\">0.818858 </td><td style=\"text-align: right;\">0.181142 </td></tr>\n",
       "</table>"
      ]
     },
     "metadata": {},
     "output_type": "display_data"
    },
    {
     "data": {
      "text/plain": []
     },
     "execution_count": 10,
     "metadata": {},
     "output_type": "execute_result"
    }
   ],
   "source": [
    "# prediction on testing dataset:\n",
    "\n",
    "glm_logistic.predict(test_data=test)"
   ]
  },
  {
   "cell_type": "code",
   "execution_count": 11,
   "metadata": {},
   "outputs": [
    {
     "name": "stdout",
     "output_type": "stream",
     "text": [
      "0.417634162646\n",
      "0.419477580207\n",
      "0.404825371757\n"
     ]
    }
   ],
   "source": [
    "# checking the model performance metrics “rmse” based on testing and other datasets:\n",
    "\n",
    "print(glm_logistic.model_performance(test_data=test).rmse())\n",
    "print(glm_logistic.model_performance(test_data=valid).rmse())\n",
    "print(glm_logistic.model_performance(test_data=train).rmse())"
   ]
  },
  {
   "cell_type": "code",
   "execution_count": 12,
   "metadata": {},
   "outputs": [
    {
     "name": "stdout",
     "output_type": "stream",
     "text": [
      "0.281379529675\n",
      "0.289044685673\n",
      "0.314010858683\n"
     ]
    }
   ],
   "source": [
    "# checking the model performance metrics “r2” based on testing and other datasets:\n",
    "\n",
    "print(glm_logistic.model_performance(test_data=test).r2())\n",
    "print(glm_logistic.model_performance(test_data=valid).r2())\n",
    "print(glm_logistic.model_performance(test_data=train).r2())"
   ]
  },
  {
   "cell_type": "code",
   "execution_count": 13,
   "metadata": {},
   "outputs": [
    {
     "name": "stdout",
     "output_type": "stream",
     "text": [
      "gbm Model Build progress: |███████████████████████████████████████████████| 100%\n"
     ]
    }
   ],
   "source": [
    "# Gradient Boosting Model:\n",
    "\n",
    "from h2o.estimators.gbm import H2OGradientBoostingEstimator\n",
    "gbm = H2OGradientBoostingEstimator()\n",
    "gbm.train(x=x, y =y, training_frame=train, validation_frame=valid)"
   ]
  },
  {
   "cell_type": "code",
   "execution_count": 14,
   "metadata": {},
   "outputs": [
    {
     "name": "stdout",
     "output_type": "stream",
     "text": [
      "Confusion Matrix (Act/Pred) for max f1 @ threshold = 0.457658742606: \n"
     ]
    },
    {
     "data": {
      "text/html": [
       "<div style=\"overflow:auto\"><table style=\"width:50%\"><tr><td><b></b></td>\n",
       "<td><b>0</b></td>\n",
       "<td><b>1</b></td>\n",
       "<td><b>Error</b></td>\n",
       "<td><b>Rate</b></td></tr>\n",
       "<tr><td>0</td>\n",
       "<td>176.0</td>\n",
       "<td>5.0</td>\n",
       "<td>0.0276</td>\n",
       "<td> (5.0/181.0)</td></tr>\n",
       "<tr><td>1</td>\n",
       "<td>6.0</td>\n",
       "<td>112.0</td>\n",
       "<td>0.0508</td>\n",
       "<td> (6.0/118.0)</td></tr>\n",
       "<tr><td>Total</td>\n",
       "<td>182.0</td>\n",
       "<td>117.0</td>\n",
       "<td>0.0368</td>\n",
       "<td> (11.0/299.0)</td></tr></table></div>"
      ],
      "text/plain": [
       "       0    1    Error    Rate\n",
       "-----  ---  ---  -------  ------------\n",
       "0      176  5    0.0276   (5.0/181.0)\n",
       "1      6    112  0.0508   (6.0/118.0)\n",
       "Total  182  117  0.0368   (11.0/299.0)"
      ]
     },
     "metadata": {},
     "output_type": "display_data"
    },
    {
     "data": {
      "text/plain": []
     },
     "execution_count": 14,
     "metadata": {},
     "output_type": "execute_result"
    }
   ],
   "source": [
    "###  MODEL PERFORMANCE ###\n",
    "# confusion metrics:\n",
    "\n",
    "gbm.confusion_matrix()"
   ]
  },
  {
   "cell_type": "code",
   "execution_count": 15,
   "metadata": {},
   "outputs": [
    {
     "data": {
      "image/png": "[encoded data removed]",
      "text/plain": [
       "<matplotlib.figure.Figure at 0xc069898>"
      ]
     },
     "metadata": {},
     "output_type": "display_data"
    }
   ],
   "source": [
    "# variable importance plots:\n",
    "\n",
    "gbm.varimp_plot()"
   ]
  },
  {
   "cell_type": "code",
   "execution_count": 16,
   "metadata": {},
   "outputs": [
    {
     "data": {
      "text/plain": [
       "[(u'GLEASON', 88.96116638183594, 1.0, 0.3206714564415858),\n",
       " (u'ID', 43.849708557128906, 0.49290842668270285, 0.15806166307667294),\n",
       " (u'PSA', 38.87799072265625, 0.4370220434811469, 0.1401404951801774),\n",
       " (u'AGE', 38.17469024658203, 0.4291163414239646, 0.1376053621873075),\n",
       " (u'VOL', 32.717132568359375, 0.3677687006477868, 0.11793292487035537),\n",
       " (u'DPROS', 28.909204483032227, 0.32496431486688443, 0.1042067801399059),\n",
       " (u'DCAPS', 4.6713786125183105, 0.052510312111556476, 0.016838558263015058),\n",
       " (u'RACE', 1.2602593898773193, 0.014166399128222746, 0.0045427598409799996)]"
      ]
     },
     "execution_count": 16,
     "metadata": {},
     "output_type": "execute_result"
    }
   ],
   "source": [
    "# variable importance table:\n",
    "\n",
    "gbm.varimp()"
   ]
  },
  {
   "cell_type": "code",
   "execution_count": 17,
   "metadata": {},
   "outputs": [
    {
     "name": "stdout",
     "output_type": "stream",
     "text": [
      "drf Model Build progress: |███████████████████████████████████████████████| 100%\n"
     ]
    }
   ],
   "source": [
    "# Distributed Random Forest model:\n",
    "\n",
    "from h2o.estimators.random_forest import H2ORandomForestEstimator\n",
    "drf = H2ORandomForestEstimator()\n",
    "drf.train(x=x, y = y, training_frame=train, validation_frame=valid)"
   ]
  },
  {
   "cell_type": "code",
   "execution_count": 18,
   "metadata": {},
   "outputs": [
    {
     "name": "stdout",
     "output_type": "stream",
     "text": [
      "Confusion Matrix (Act/Pred) for max f1 @ threshold = 0.45: \n"
     ]
    },
    {
     "data": {
      "text/html": [
       "<div style=\"overflow:auto\"><table style=\"width:50%\"><tr><td><b></b></td>\n",
       "<td><b>0</b></td>\n",
       "<td><b>1</b></td>\n",
       "<td><b>Error</b></td>\n",
       "<td><b>Rate</b></td></tr>\n",
       "<tr><td>0</td>\n",
       "<td>137.0</td>\n",
       "<td>44.0</td>\n",
       "<td>0.2431</td>\n",
       "<td> (44.0/181.0)</td></tr>\n",
       "<tr><td>1</td>\n",
       "<td>36.0</td>\n",
       "<td>82.0</td>\n",
       "<td>0.3051</td>\n",
       "<td> (36.0/118.0)</td></tr>\n",
       "<tr><td>Total</td>\n",
       "<td>173.0</td>\n",
       "<td>126.0</td>\n",
       "<td>0.2676</td>\n",
       "<td> (80.0/299.0)</td></tr></table></div>"
      ],
      "text/plain": [
       "       0    1    Error    Rate\n",
       "-----  ---  ---  -------  ------------\n",
       "0      137  44   0.2431   (44.0/181.0)\n",
       "1      36   82   0.3051   (36.0/118.0)\n",
       "Total  173  126  0.2676   (80.0/299.0)"
      ]
     },
     "metadata": {},
     "output_type": "display_data"
    },
    {
     "data": {
      "text/plain": []
     },
     "execution_count": 18,
     "metadata": {},
     "output_type": "execute_result"
    }
   ],
   "source": [
    "# random forest model's 'confusion metrics:\n",
    "\n",
    "drf.confusion_matrix()"
   ]
  },
  {
   "cell_type": "code",
   "execution_count": 19,
   "metadata": {},
   "outputs": [
    {
     "name": "stdout",
     "output_type": "stream",
     "text": [
      "Gains/Lift Table: Avg response rate: 39.46 %, avg score: 40.52 %\n",
      "\n"
     ]
    },
    {
     "data": {
      "text/html": [
       "<div style=\"overflow:auto\"><table style=\"width:50%\"><tr><td><b></b></td>\n",
       "<td><b>group</b></td>\n",
       "<td><b>cumulative_data_fraction</b></td>\n",
       "<td><b>lower_threshold</b></td>\n",
       "<td><b>lift</b></td>\n",
       "<td><b>cumulative_lift</b></td>\n",
       "<td><b>response_rate</b></td>\n",
       "<td><b>score</b></td>\n",
       "<td><b>cumulative_response_rate</b></td>\n",
       "<td><b>cumulative_score</b></td>\n",
       "<td><b>capture_rate</b></td>\n",
       "<td><b>cumulative_capture_rate</b></td>\n",
       "<td><b>gain</b></td>\n",
       "<td><b>cumulative_gain</b></td></tr>\n",
       "<tr><td></td>\n",
       "<td>1</td>\n",
       "<td>0.0100334</td>\n",
       "<td>0.9565580</td>\n",
       "<td>2.5338983</td>\n",
       "<td>2.5338983</td>\n",
       "<td>1.0</td>\n",
       "<td>0.9861111</td>\n",
       "<td>1.0</td>\n",
       "<td>0.9861111</td>\n",
       "<td>0.0254237</td>\n",
       "<td>0.0254237</td>\n",
       "<td>153.3898305</td>\n",
       "<td>153.3898305</td></tr>\n",
       "<tr><td></td>\n",
       "<td>2</td>\n",
       "<td>0.0200669</td>\n",
       "<td>0.9098701</td>\n",
       "<td>1.6892655</td>\n",
       "<td>2.1115819</td>\n",
       "<td>0.6666667</td>\n",
       "<td>0.9431792</td>\n",
       "<td>0.8333333</td>\n",
       "<td>0.9646452</td>\n",
       "<td>0.0169492</td>\n",
       "<td>0.0423729</td>\n",
       "<td>68.9265537</td>\n",
       "<td>111.1581921</td></tr>\n",
       "<tr><td></td>\n",
       "<td>3</td>\n",
       "<td>0.0301003</td>\n",
       "<td>0.8830960</td>\n",
       "<td>1.6892655</td>\n",
       "<td>1.9708098</td>\n",
       "<td>0.6666667</td>\n",
       "<td>0.8995215</td>\n",
       "<td>0.7777778</td>\n",
       "<td>0.9429373</td>\n",
       "<td>0.0169492</td>\n",
       "<td>0.0593220</td>\n",
       "<td>68.9265537</td>\n",
       "<td>97.0809793</td></tr>\n",
       "<tr><td></td>\n",
       "<td>4</td>\n",
       "<td>0.0401338</td>\n",
       "<td>0.8673333</td>\n",
       "<td>2.5338983</td>\n",
       "<td>2.1115819</td>\n",
       "<td>1.0</td>\n",
       "<td>0.8799020</td>\n",
       "<td>0.8333333</td>\n",
       "<td>0.9271785</td>\n",
       "<td>0.0254237</td>\n",
       "<td>0.0847458</td>\n",
       "<td>153.3898305</td>\n",
       "<td>111.1581921</td></tr>\n",
       "<tr><td></td>\n",
       "<td>5</td>\n",
       "<td>0.0501672</td>\n",
       "<td>0.8639394</td>\n",
       "<td>2.5338983</td>\n",
       "<td>2.1960452</td>\n",
       "<td>1.0</td>\n",
       "<td>0.8666667</td>\n",
       "<td>0.8666667</td>\n",
       "<td>0.9150761</td>\n",
       "<td>0.0254237</td>\n",
       "<td>0.1101695</td>\n",
       "<td>153.3898305</td>\n",
       "<td>119.6045198</td></tr>\n",
       "<tr><td></td>\n",
       "<td>6</td>\n",
       "<td>0.1003344</td>\n",
       "<td>0.7836627</td>\n",
       "<td>1.6892655</td>\n",
       "<td>1.9426554</td>\n",
       "<td>0.6666667</td>\n",
       "<td>0.8252473</td>\n",
       "<td>0.7666667</td>\n",
       "<td>0.8701617</td>\n",
       "<td>0.0847458</td>\n",
       "<td>0.1949153</td>\n",
       "<td>68.9265537</td>\n",
       "<td>94.2655367</td></tr>\n",
       "<tr><td></td>\n",
       "<td>7</td>\n",
       "<td>0.1505017</td>\n",
       "<td>0.7290909</td>\n",
       "<td>1.6892655</td>\n",
       "<td>1.8581921</td>\n",
       "<td>0.6666667</td>\n",
       "<td>0.7640924</td>\n",
       "<td>0.7333333</td>\n",
       "<td>0.8348053</td>\n",
       "<td>0.0847458</td>\n",
       "<td>0.2796610</td>\n",
       "<td>68.9265537</td>\n",
       "<td>85.8192090</td></tr>\n",
       "<tr><td></td>\n",
       "<td>8</td>\n",
       "<td>0.2073579</td>\n",
       "<td>0.6666667</td>\n",
       "<td>1.6395813</td>\n",
       "<td>1.7982504</td>\n",
       "<td>0.6470588</td>\n",
       "<td>0.6959200</td>\n",
       "<td>0.7096774</td>\n",
       "<td>0.7967238</td>\n",
       "<td>0.0932203</td>\n",
       "<td>0.3728814</td>\n",
       "<td>63.9581256</td>\n",
       "<td>79.8250410</td></tr>\n",
       "<tr><td></td>\n",
       "<td>9</td>\n",
       "<td>0.3043478</td>\n",
       "<td>0.5714286</td>\n",
       "<td>1.4853887</td>\n",
       "<td>1.6985472</td>\n",
       "<td>0.5862069</td>\n",
       "<td>0.6057492</td>\n",
       "<td>0.6703297</td>\n",
       "<td>0.7358638</td>\n",
       "<td>0.1440678</td>\n",
       "<td>0.5169492</td>\n",
       "<td>48.5388662</td>\n",
       "<td>69.8547215</td></tr>\n",
       "<tr><td></td>\n",
       "<td>10</td>\n",
       "<td>0.4013378</td>\n",
       "<td>0.4559123</td>\n",
       "<td>1.4853887</td>\n",
       "<td>1.6470339</td>\n",
       "<td>0.5862069</td>\n",
       "<td>0.5086263</td>\n",
       "<td>0.65</td>\n",
       "<td>0.6809481</td>\n",
       "<td>0.1440678</td>\n",
       "<td>0.6610169</td>\n",
       "<td>48.5388662</td>\n",
       "<td>64.7033898</td></tr>\n",
       "<tr><td></td>\n",
       "<td>11</td>\n",
       "<td>0.5050167</td>\n",
       "<td>0.3636364</td>\n",
       "<td>0.8991252</td>\n",
       "<td>1.4934897</td>\n",
       "<td>0.3548387</td>\n",
       "<td>0.4132142</td>\n",
       "<td>0.5894040</td>\n",
       "<td>0.6259828</td>\n",
       "<td>0.0932203</td>\n",
       "<td>0.7542373</td>\n",
       "<td>-10.0874795</td>\n",
       "<td>49.3489729</td></tr>\n",
       "<tr><td></td>\n",
       "<td>12</td>\n",
       "<td>0.5986622</td>\n",
       "<td>0.2813853</td>\n",
       "<td>0.5429782</td>\n",
       "<td>1.3448064</td>\n",
       "<td>0.2142857</td>\n",
       "<td>0.3182927</td>\n",
       "<td>0.5307263</td>\n",
       "<td>0.5778525</td>\n",
       "<td>0.0508475</td>\n",
       "<td>0.8050847</td>\n",
       "<td>-45.7021792</td>\n",
       "<td>34.4806363</td></tr>\n",
       "<tr><td></td>\n",
       "<td>13</td>\n",
       "<td>0.6989967</td>\n",
       "<td>0.2350077</td>\n",
       "<td>0.6757062</td>\n",
       "<td>1.2487633</td>\n",
       "<td>0.2666667</td>\n",
       "<td>0.2564933</td>\n",
       "<td>0.4928230</td>\n",
       "<td>0.5317244</td>\n",
       "<td>0.0677966</td>\n",
       "<td>0.8728814</td>\n",
       "<td>-32.4293785</td>\n",
       "<td>24.8763280</td></tr>\n",
       "<tr><td></td>\n",
       "<td>14</td>\n",
       "<td>0.8026756</td>\n",
       "<td>0.1578947</td>\n",
       "<td>0.5721706</td>\n",
       "<td>1.1613701</td>\n",
       "<td>0.2258065</td>\n",
       "<td>0.1884349</td>\n",
       "<td>0.4583333</td>\n",
       "<td>0.4873829</td>\n",
       "<td>0.0593220</td>\n",
       "<td>0.9322034</td>\n",
       "<td>-42.7829415</td>\n",
       "<td>16.1370056</td></tr>\n",
       "<tr><td></td>\n",
       "<td>15</td>\n",
       "<td>0.8996656</td>\n",
       "<td>0.0636788</td>\n",
       "<td>0.2621274</td>\n",
       "<td>1.0644257</td>\n",
       "<td>0.1034483</td>\n",
       "<td>0.1142774</td>\n",
       "<td>0.4200743</td>\n",
       "<td>0.4471596</td>\n",
       "<td>0.0254237</td>\n",
       "<td>0.9576271</td>\n",
       "<td>-73.7872589</td>\n",
       "<td>6.4425682</td></tr>\n",
       "<tr><td></td>\n",
       "<td>16</td>\n",
       "<td>1.0</td>\n",
       "<td>0.0</td>\n",
       "<td>0.4223164</td>\n",
       "<td>1.0</td>\n",
       "<td>0.1666667</td>\n",
       "<td>0.0289553</td>\n",
       "<td>0.3946488</td>\n",
       "<td>0.4051993</td>\n",
       "<td>0.0423729</td>\n",
       "<td>1.0</td>\n",
       "<td>-57.7683616</td>\n",
       "<td>0.0</td></tr></table></div>"
      ],
      "text/plain": [
       "    group    cumulative_data_fraction    lower_threshold    lift      cumulative_lift    response_rate    score      cumulative_response_rate    cumulative_score    capture_rate    cumulative_capture_rate    gain      cumulative_gain\n",
       "--  -------  --------------------------  -----------------  --------  -----------------  ---------------  ---------  --------------------------  ------------------  --------------  -------------------------  --------  -----------------\n",
       "    1        0.0100334                   0.956558           2.5339    2.5339             1                0.986111   1                           0.986111            0.0254237       0.0254237                  153.39    153.39\n",
       "    2        0.0200669                   0.90987            1.68927   2.11158            0.666667         0.943179   0.833333                    0.964645            0.0169492       0.0423729                  68.9266   111.158\n",
       "    3        0.0301003                   0.883096           1.68927   1.97081            0.666667         0.899522   0.777778                    0.942937            0.0169492       0.059322                   68.9266   97.081\n",
       "    4        0.0401338                   0.867333           2.5339    2.11158            1                0.879902   0.833333                    0.927178            0.0254237       0.0847458                  153.39    111.158\n",
       "    5        0.0501672                   0.863939           2.5339    2.19605            1                0.866667   0.866667                    0.915076            0.0254237       0.110169                   153.39    119.605\n",
       "    6        0.100334                    0.783663           1.68927   1.94266            0.666667         0.825247   0.766667                    0.870162            0.0847458       0.194915                   68.9266   94.2655\n",
       "    7        0.150502                    0.729091           1.68927   1.85819            0.666667         0.764092   0.733333                    0.834805            0.0847458       0.279661                   68.9266   85.8192\n",
       "    8        0.207358                    0.666667           1.63958   1.79825            0.647059         0.69592    0.709677                    0.796724            0.0932203       0.372881                   63.9581   79.825\n",
       "    9        0.304348                    0.571429           1.48539   1.69855            0.586207         0.605749   0.67033                     0.735864            0.144068        0.516949                   48.5389   69.8547\n",
       "    10       0.401338                    0.455912           1.48539   1.64703            0.586207         0.508626   0.65                        0.680948            0.144068        0.661017                   48.5389   64.7034\n",
       "    11       0.505017                    0.363636           0.899125  1.49349            0.354839         0.413214   0.589404                    0.625983            0.0932203       0.754237                   -10.0875  49.349\n",
       "    12       0.598662                    0.281385           0.542978  1.34481            0.214286         0.318293   0.530726                    0.577853            0.0508475       0.805085                   -45.7022  34.4806\n",
       "    13       0.698997                    0.235008           0.675706  1.24876            0.266667         0.256493   0.492823                    0.531724            0.0677966       0.872881                   -32.4294  24.8763\n",
       "    14       0.802676                    0.157895           0.572171  1.16137            0.225806         0.188435   0.458333                    0.487383            0.059322        0.932203                   -42.7829  16.137\n",
       "    15       0.899666                    0.0636788          0.262127  1.06443            0.103448         0.114277   0.420074                    0.44716             0.0254237       0.957627                   -73.7873  6.44257\n",
       "    16       1                           0                  0.422316  1                  0.166667         0.0289553  0.394649                    0.405199            0.0423729       1                          -57.7684  0"
      ]
     },
     "metadata": {},
     "output_type": "display_data"
    },
    {
     "data": {
      "text/plain": []
     },
     "execution_count": 19,
     "metadata": {},
     "output_type": "execute_result"
    }
   ],
   "source": [
    "# gains and lift table:\n",
    "\n",
    "drf.gains_lift()"
   ]
  }
 ],
 "metadata": {
  "kernelspec": {
   "display_name": "Python 2",
   "language": "python",
   "name": "python2"
  },
  "language_info": {
   "codemirror_mode": {
    "name": "ipython",
    "version": 2
   },
   "file_extension": ".py",
   "mimetype": "text/x-python",
   "name": "python",
   "nbconvert_exporter": "python",
   "pygments_lexer": "ipython2",
   "version": "2.7.13"
  }
 },
 "nbformat": 4,
 "nbformat_minor": 2
}
